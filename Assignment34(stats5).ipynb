{
 "cells": [
  {
   "cell_type": "markdown",
   "id": "1cf00d6e-e372-4daf-8025-c8d9a2839a30",
   "metadata": {},
   "source": [
    "#### Question No. 1:\n",
    "What is Estimation Statistics? Explain point estimate and interval estimate."
   ]
  },
  {
   "cell_type": "markdown",
   "id": "60ac74d5-739b-4188-b7a1-1eeb491df843",
   "metadata": {},
   "source": [
    "#### Answer:\n",
    "<b>Estimation statistics</b> is a branch of statistics that involves using data from a sample to make inferences about the population. The goal of estimation is to provide information about population parameters, such as the mean or proportion, based on a sample of data.\n",
    "\n",
    "There are two main types of estimates: point estimates and interval estimates.\n",
    "\n",
    "1. <b>Point Estimate</b>: A point estimate is a single value that is used to estimate a population parameter. It is obtained by using a sample statistic, such as the sample mean or sample proportion, to estimate the corresponding population parameter.\n",
    "\n",
    "2. <b>Interval Estimate</b>: An interval estimate, also called a confidence interval, is a range of values that is likely to contain the true population parameter with a certain level of confidence. It is obtained by using a sample statistic, such as the sample mean or sample proportion, to calculate an interval of values that is likely to contain the true population parameter."
   ]
  },
  {
   "cell_type": "markdown",
   "id": "cab81592-2e50-48ad-aa02-6edb1821b2ce",
   "metadata": {},
   "source": [
    "#### Question No. 2:\n",
    "Write a Python function to estimate the population mean using a sample mean and standard deviation."
   ]
  },
  {
   "cell_type": "code",
   "execution_count": 1,
   "id": "db2f83a6-262e-4bf5-ae7f-1260d124d9a7",
   "metadata": {},
   "outputs": [],
   "source": [
    "import math\n",
    "\n",
    "def population_mean(sample_mean, sample_std, sample_size):\n",
    "    std_error = sample_std / math.sqrt(sample_size)\n",
    "    z_value = 1.96 # assume a 95% confidence level and use the corresponding z-value\n",
    "    margin_of_error = z_value * std_error \n",
    "    lower_bound = sample_mean - margin_of_error \n",
    "    upper_bound = sample_mean + margin_of_error \n",
    "    return ((lower_bound + upper_bound) / 2)"
   ]
  },
  {
   "cell_type": "code",
   "execution_count": 2,
   "id": "60d5903f-a6fb-4f10-b328-f0acd447e168",
   "metadata": {},
   "outputs": [
    {
     "name": "stdout",
     "output_type": "stream",
     "text": [
      "Population mean: 2.0\n"
     ]
    }
   ],
   "source": [
    "result = population_mean(2,5,20000)\n",
    "\n",
    "print(f\"Population mean: {result}\")"
   ]
  },
  {
   "cell_type": "markdown",
   "id": "979ff8e2-2bd0-45a1-b9bf-bd498e455ca4",
   "metadata": {},
   "source": [
    "#### Question No. 3:\n",
    "What is Hypothesis testing? Why is it used? State the importance of Hypothesis testing."
   ]
  },
  {
   "cell_type": "markdown",
   "id": "fbc8329a-c25f-4de4-9b3a-8ac1e8424f7b",
   "metadata": {},
   "source": [
    "#### Answer:\n",
    "<b>Hypothesis testing</b> is a statistical method used to make decisions or draw conclusions about a population based on a sample of data. It involves comparing a hypothesis or claim about a population parameter (such as a mean or proportion) with the data from a sample, in order to determine if the hypothesis is likely to be true.\n",
    "\n",
    "<b>Hypothesis testing is used</b> to test the validity of a theory or claim.\n",
    "\n",
    " > For example, in medical research, hypothesis testing can be used to determine if a new drug is effective in treating a disease by comparing its effects to a placebo. In business, hypothesis testing can be used to evaluate whether a new marketing strategy is effective in increasing sales.\n",
    "\n",
    "<b>The importance of hypothesis testing</b> lies in its ability to provide evidence for or against a theory or claim, and to help researchers make informed decisions based on data. It allows researchers to determine if an observed difference between groups or variables is statistically significant or simply due to chance, and to quantify the level of uncertainty in their findings. This can help researchers to draw conclusions that are based on evidence and minimize the risk of drawing incorrect or unsupported conclusions."
   ]
  },
  {
   "cell_type": "markdown",
   "id": "7758d84d-5cb3-43ea-a0ed-4333636568d9",
   "metadata": {},
   "source": [
    "#### Question No. 4:\n",
    "Create a hypothesis that states whether the average weight of male college students is greater than the average weight of female college students."
   ]
  },
  {
   "cell_type": "markdown",
   "id": "43c45bf1-a2ac-4841-85ff-2c9a2dff9388",
   "metadata": {},
   "source": [
    "#### Answer:\n",
    "The null hypothesis would be:\n",
    "\n",
    " > H0: The average weight of male college students is not greater than the average weight of female college students.\n",
    "\n",
    "The alternative hypothesis would be:\n",
    "\n",
    " > H1: The average weight of male college students is greater than the average weight of female college students."
   ]
  },
  {
   "cell_type": "markdown",
   "id": "80ae49ef-4238-48ee-bee7-1eafbcea2305",
   "metadata": {},
   "source": [
    "#### Question No. 5:\n",
    "Write a Python script to conduct a hypothesis test on the difference between two population means, given a sample from each population."
   ]
  },
  {
   "cell_type": "code",
   "execution_count": 4,
   "id": "cafe82b0-5c1c-47ad-844c-f4f81a0eb172",
   "metadata": {},
   "outputs": [],
   "source": [
    "import numpy as np\n",
    "from scipy.stats import ttest_ind"
   ]
  },
  {
   "cell_type": "code",
   "execution_count": 7,
   "id": "238e0733-454f-457d-8782-23402842ed64",
   "metadata": {},
   "outputs": [
    {
     "name": "stdout",
     "output_type": "stream",
     "text": [
      "t-statistics -7.718439963626062\n",
      "p_val 5.682502815971818e-13\n",
      "Reject null hypothesis\n"
     ]
    }
   ],
   "source": [
    "#create two random sample\n",
    "sample1 = np.random.normal(10,2,100)\n",
    "sample2 = np.random.normal(12,2,100)\n",
    "\n",
    "#conduct t test\n",
    "t_stat , p_val = ttest_ind(sample1,sample2)\n",
    "\n",
    "#print result\n",
    "print(\"t-statistics\", t_stat)\n",
    "print(\"p_val\",p_val)\n",
    "\n",
    "#check if p-value significant at 5% level \n",
    "if p_val<0.05:\n",
    "     print(\"Reject null hypothesis\")\n",
    "else:\n",
    "    print(\"fail to reject num hypothesis\")"
   ]
  },
  {
   "cell_type": "markdown",
   "id": "e058091f-b6a5-4e7f-a9a1-6a5db73980d0",
   "metadata": {},
   "source": [
    "#### Question No. 6:\n",
    "What is a null and alternative hypothesis? Give some examples."
   ]
  },
  {
   "cell_type": "markdown",
   "id": "4a00e2db-06a1-49be-9505-db6b06f68d70",
   "metadata": {},
   "source": [
    "#### Answer:\n",
    "<b> The null hypothesis (H0) </b>states that there is no significant difference between two populations or variables. It is often the default or conventional position and is tested against the alternative hypothesis. In other words, it is the claim that researchers aim to reject or fail to reject based on the evidence from the data.\n",
    "\n",
    "<b> The alternative hypothesis (H1) </b>is the complement of the null hypothesis and states that there is a significant difference between two populations or variables. It represents the claim that researchers seek to support or prove based on the evidence from the data.\n",
    "\n",
    "<b>Examples:</b>\n",
    "\n",
    "1. Null hypothesis: The average IQ scores of two groups of students are equal.\n",
    "\n",
    "Alternative hypothesis: The average IQ score of one group of students is significantly different from the other group.\n",
    "\n",
    "2. Null hypothesis: The new drug has no effect on curing a disease.\n",
    "\n",
    "Alternative hypothesis: The new drug is significantly more effective in curing the disease than the current drug."
   ]
  },
  {
   "cell_type": "markdown",
   "id": "2570bafe-8428-429f-b650-853a1c8ff88d",
   "metadata": {},
   "source": [
    "#### Question No. 7:\n",
    "Write down the steps involved in hypothesis testing."
   ]
  },
  {
   "cell_type": "markdown",
   "id": "40997e78-c036-41ac-9740-a249f66e1c67",
   "metadata": {},
   "source": [
    "#### Answer:\n",
    "The general steps involved in hypothesis testing are:\n",
    "\n",
    "<b>State the null and alternative hypotheses:</b> Identify the research question and define the null and alternative hypotheses that represent the possible outcomes.\n",
    "\n",
    "<b>Determine the test statistic:</b> Choose an appropriate statistical test (e.g., t-test, ANOVA, chi-square) based on the research question and data type, and calculate the test statistic using the sample data.\n",
    "\n",
    "<b>Set the significance level:</b> Determine the level of significance (alpha) to use for the test. This is the probability of rejecting the null hypothesis when it is true and is typically set at 0.05.\n",
    "\n",
    "<b>Calculate the p-value:</b> Calculate the probability of observing the test statistic or a more extreme value under the null hypothesis.\n",
    "\n",
    "<b>Make a decision:</b> Compare the p-value to the significance level and make a decision whether to reject or fail to reject the null hypothesis. If the p-value is less than or equal to the significance level, reject the null hypothesis; otherwise, fail to reject the null hypothesis."
   ]
  },
  {
   "cell_type": "markdown",
   "id": "c775abf7-db40-4785-9048-0d6c8e54c70f",
   "metadata": {},
   "source": [
    "#### Question No. 8:\n",
    "Define p-value and explain its significance in hypothesis testing."
   ]
  },
  {
   "cell_type": "markdown",
   "id": "dbcd5964-482c-492d-ad9b-0bc17debffb0",
   "metadata": {},
   "source": [
    "#### Answer:\n",
    "The p-value in hypothesis testing is the probability of observing a test statistic or a more extreme value, given that the null hypothesis is true. In other words, it is the probability of obtaining the observed data or more extreme data if the null hypothesis is true.\n",
    "The p-value provides a measure of the strength of evidence against the null hypothesis. A small p-value indicates strong evidence against the null hypothesis, while a large p-value indicates weak evidence against the null hypothesis.\n",
    "\n",
    "The p-value is a key component of hypothesis testing because it helps researchers make decisions about the null hypothesis. If the p-value is small (e.g., less than or equal to the significance level), it suggests that the observed data is unlikely to have occurred by chance under the null hypothesis, and the null hypothesis is rejected. If the p-value is large (e.g., greater than the significance level), it suggests that the observed data is consistent with the null hypothesis, and the null hypothesis is not rejected."
   ]
  },
  {
   "cell_type": "markdown",
   "id": "22ac1254-3404-4dab-a513-0b45b211ac07",
   "metadata": {},
   "source": [
    "#### Question No. 9:\n",
    "Generate a Student's t-distribution plot using Python's matplotlib library, with the degrees of freedom parameter set to 10."
   ]
  },
  {
   "cell_type": "markdown",
   "id": "0155cc64-e403-4869-90ea-f3b3ab59e225",
   "metadata": {},
   "source": [
    "#### Answer:\n"
   ]
  },
  {
   "cell_type": "code",
   "execution_count": 8,
   "id": "2ae8654b-0348-4da5-a3de-dfe01bb2cd38",
   "metadata": {},
   "outputs": [],
   "source": [
    "from scipy.stats import t \n",
    "import matplotlib.pyplot as plt"
   ]
  },
  {
   "cell_type": "code",
   "execution_count": 9,
   "id": "d232a475-fc4e-41ec-a109-10afb48764c0",
   "metadata": {},
   "outputs": [
    {
     "data": {
      "text/plain": [
       "(array([0.00946576, 0.00946576, 0.02129796, 0.04259592, 0.08282539,\n",
       "        0.1372535 , 0.23664397, 0.3455002 , 0.35496596, 0.35969884,\n",
       "        0.30290429, 0.17984942, 0.16328434, 0.05206167, 0.03076372,\n",
       "        0.00946576, 0.01656508, 0.00473288, 0.00473288, 0.00236644]),\n",
       " array([-3.76555273, -3.342977  , -2.92040127, -2.49782554, -2.07524981,\n",
       "        -1.65267408, -1.23009835, -0.80752262, -0.38494689,  0.03762884,\n",
       "         0.46020457,  0.8827803 ,  1.30535603,  1.72793176,  2.15050749,\n",
       "         2.57308322,  2.99565895,  3.41823468,  3.84081041,  4.26338614,\n",
       "         4.68596187]),\n",
       " <BarContainer object of 20 artists>)"
      ]
     },
     "execution_count": 9,
     "metadata": {},
     "output_type": "execute_result"
    },
    {
     "data": {
      "image/png": "[encoded data removed]",
      "text/plain": [
       "<Figure size 640x480 with 1 Axes>"
      ]
     },
     "metadata": {},
     "output_type": "display_data"
    }
   ],
   "source": [
    "#generate t distribution with sample size 1000\n",
    "x = t.rvs(df=10, size=1000)\n",
    "\n",
    "plt.hist(x,density=True , edgecolor='black' , bins=20)"
   ]
  },
  {
   "cell_type": "markdown",
   "id": "6c52b77f-9dea-4ec5-a2c1-b84425855d4f",
   "metadata": {},
   "source": [
    "#### Question No. 10:\n",
    "Write a Python program to calculate the two-sample t-test for independent samples, given two random samples of equal size and a null hypothesis that the population means are equal."
   ]
  },
  {
   "cell_type": "code",
   "execution_count": 10,
   "id": "405d4160-e31e-487e-96f5-b2d7b1ef6e45",
   "metadata": {},
   "outputs": [
    {
     "name": "stdout",
     "output_type": "stream",
     "text": [
      "t-test statistic: -8.765981803669161\n",
      "p-value: 8.412627495274008e-16\n",
      "Reject the null hypothesis\n"
     ]
    }
   ],
   "source": [
    "import numpy as np\n",
    "from scipy.stats import ttest_ind\n",
    "\n",
    "sample1 = np.random.normal(10, 2, 100)\n",
    "sample2 = np.random.normal(12, 2, 100)\n",
    "\n",
    "#calculate the t-test statistic and p-value\n",
    "t_statistic, p_value = ttest_ind(sample1, sample2)\n",
    "\n",
    "print(\"t-test statistic:\", t_statistic)\n",
    "print(\"p-value:\", p_value)\n",
    "\n",
    "#compare the p-value to the significance level\n",
    "alpha = 0.05\n",
    "if p_value < alpha:\n",
    "    print(\"Reject the null hypothesis\")\n",
    "else:\n",
    "    print(\"Fail to reject the null hypothesis\")"
   ]
  },
  {
   "cell_type": "markdown",
   "id": "7d3bc2c4-2922-467d-a675-ce932b523c43",
   "metadata": {},
   "source": [
    "#### Question No. 11:\n",
    "What is Student’s t distribution? When to use the t-Distribution."
   ]
  },
  {
   "cell_type": "markdown",
   "id": "12ed96f3-d007-44f9-a4cf-a23e92ec2c43",
   "metadata": {},
   "source": [
    "#### Answer:\n",
    "<b>Student's t distribution</b> is a probability distribution that is used in hypothesis testing when the sample size is small and the population standard deviation is unknown.\n",
    "It is similar to the standard normal distribution (z-distribution), but has heavier tails, which means it has more probability in the tails and less in the center compared to the standard normal distribution. The shape of the t-distribution depends on the sample size, with smaller sample sizes resulting in a more spread-out distribution.\n",
    "\n",
    "<b>The t-distribution</b> is used in situations where the population standard deviation is unknown and must be estimated from the sample data.\n",
    "It is also used when the sample size is small (typically less than 30) and the population is normally distributed. The t-distribution allows for greater uncertainty in the estimate of the population standard deviation due to the smaller sample size."
   ]
  },
  {
   "cell_type": "markdown",
   "id": "858c1874-b13d-492b-be83-1b5c08235486",
   "metadata": {},
   "source": [
    "#### Question No. 12:\n",
    "What is t-statistic? State the formula for t-statistic."
   ]
  },
  {
   "cell_type": "markdown",
   "id": "425cee1f-0bcc-415e-b512-5f7b4d241b24",
   "metadata": {},
   "source": [
    "#### Answer:\n",
    "The t-statistic is a measure of how many standard errors the sample mean is from the hypothesized population mean, under the assumption that the population variance is unknown and must be estimated from the sample data. It is used in hypothesis testing to determine whether the difference between the sample mean and the hypothesized population mean is statistically significant.\n",
    "\n",
    "The formula for the t-statistic is:\n",
    " > t = (x̄ - μ) / (s / √n)\n",
    "\n",
    "where:\n",
    " > x̄ is the sample mean\n",
    " \n",
    " > μ is the hypothesized population mean\n",
    " \n",
    " > s is the sample standard deviation\n",
    " \n",
    " > n is the sample size\n",
    " \n",
    " > √n is the square root of the sample size"
   ]
  },
  {
   "cell_type": "markdown",
   "id": "59b872eb-11fb-4aef-a68a-29cac7ec957b",
   "metadata": {},
   "source": [
    "##### Question No. 13:\n",
    "A coffee shop owner wants to estimate the average daily revenue for their shop. They take a random sample of 50 days and find the sample mean revenue to be 500 dollars with a standard deviation of 50 dollars. Estimate the population mean revenue with a 95% confidence interval."
   ]
  },
  {
   "cell_type": "markdown",
   "id": "176c25b1-b5b8-4b92-a511-2e95fbd9644a",
   "metadata": {},
   "source": [
    "Answer:\n",
    "To estimate the population mean revenue with a 95% confidence interval, we can use the following formula:\n",
    "\n",
    "Confidence Interval = sample mean ± margin of error\n",
    "\n",
    "where the margin of error is given by:\n",
    "\n",
    "Margin of Error = critical value * standard error\n",
    "\n",
    "The standard error is the standard deviation of the sample divided by the square root of the sample size:\n",
    "\n",
    "Standard Error = standard deviation / sqrt(sample size)\n",
    "\n",
    "Substituting the values given in the problem statement, we get:\n",
    "\n",
    "Standard Error = 50 / sqrt(50) = 7.07\n",
    "Margin of Error = 1.96 * 7.07 = 13.85\n",
    "\n",
    "Therefore, the 95% confidence interval for the population mean revenue is:\n",
    "\n",
    "500 ± 13.85, or (486.15, 513.85)\n",
    "\n",
    "We can be 95% confident that the true population mean revenue falls within this interval."
   ]
  },
  {
   "cell_type": "markdown",
   "id": "6bc19975-8cd7-4f9e-afef-65dbf3ab5d3a",
   "metadata": {},
   "source": [
    "#### Question No. 14:\n",
    "A researcher hypothesizes that a new drug will decrease blood pressure by 10 mmHg. They conduct a clinical trial with 100 patients and find that the sample mean decrease in blood pressure is 8 mmHg with a standard deviation of 3 mmHg. Test the hypothesis with a significance level of 0.05.\n",
    "\n"
   ]
  },
  {
   "cell_type": "markdown",
   "id": "62adae1d-1516-4170-a54b-eff35648d10f",
   "metadata": {},
   "source": [
    "The following values are given in the question:\n",
    "\n",
    "Population Mean = 10\n",
    "\n",
    "Sample Size = n = 100\n",
    "\n",
    "Sample Mean = 8\n",
    "\n",
    "Standard Deviation = 3\n",
    "\n",
    "Significance Level = 0.05\n",
    "\n",
    "Confidence Interval = 0.95\n",
    "\n",
    "My null and alternate hypothesis are as follows:\n",
    "\n",
    "Null Hypothesis = H0 => Population Mean = 10\n",
    "\n",
    "Alternate Hypothesis = H1 => Population Mean != 10\n",
    "\n",
    "From utilizing z-table i obgtained values for z-score:\n",
    "\n",
    "z-score = ± 1.96\n",
    "\n",
    "Then I utilized the follwing z-test formula:\n",
    "I got the following value:\n",
    "\n",
    "-0.66\n",
    "\n",
    "As -0.66 lies outside the region ± 1.96, that means it lies in the rejection region.\n",
    "So my final conclusion was:\n",
    "\n",
    "Reject the null hypothesis"
   ]
  },
  {
   "cell_type": "markdown",
   "id": "d1f47814-45f3-4008-8c16-3a5d98d95282",
   "metadata": {},
   "source": [
    "#### Question No. 15:\n",
    "An electronics company produces a certain type of product with a mean weight of 5 pounds and a standard deviation of 0.5 pounds. A random sample of 25 products is taken, and the sample mean weight is found to be 4.8 pounds. Test the hypothesis that the true mean weight of the products is less than 5 pounds with a significance level of 0.01."
   ]
  },
  {
   "cell_type": "markdown",
   "id": "3821c9d0-9658-4b57-a2f4-c3a1d39f51f7",
   "metadata": {},
   "source": [
    "Answer:\n",
    "The following values are given in the question:\n",
    "\n",
    " > Population Mean = 5 <br>\n",
    " > Sample Size = n = 25 <br>\n",
    " > Sample Mean = 4.8 <br>\n",
    " > Standard Deviation = 0.5 <br>\n",
    " > Significance Level = 0.01 <br>\n",
    " > Confidence Interval = 0.99 <br>\n",
    "\n",
    "My null and alternate hypothesis are as follows:\n",
    "\n",
    "Null Hypothesis = H0 => Population Mean = 5\n",
    "\n",
    "Alternate Hypothesis = H1 => Population Mean < 5\n",
    "\n",
    "Then I utilized the follwing z-test formula:\n",
    "\n",
    "\n",
    "I got the following value:\n",
    "\n",
    "-2\n",
    "\n",
    "From utilizing z-table i obgtained values for z-score of -2:\n",
    "\n",
    "z-score = 0.02275\n",
    "\n",
    "Which also becomes my p-value:\n",
    "\n",
    "p-value = 0.02275\n",
    "\n",
    "Then i checked whether p-value < significance value\n",
    "\n",
    "0.02775 < 0.01\n",
    "False\n",
    "\n",
    "So my final conclusion was:\n",
    "\n",
    "Failed to reject null hypothesis"
   ]
  },
  {
   "cell_type": "markdown",
   "id": "5683bc6b-8e0f-4a7a-8d1b-a5a0b914aa64",
   "metadata": {},
   "source": [
    "#### Question No. 16:\n",
    "Two groups of students are given different study materials to prepare for a test. The first group (n1 = 30) has a mean score of 80 with a standard deviation of 10, and the second group (n2 = 40) has a mean score of 75 with a standard deviation of 8. Test the hypothesis that the population means for the two groups are equal with a significance level of 0.01."
   ]
  },
  {
   "cell_type": "markdown",
   "id": "8e15af4f-4710-4f76-b417-25dc97213182",
   "metadata": {},
   "source": [
    "#### Answer:\n",
    "My null and alternate hypothesis are as follows:\n",
    "\n",
    " > Null Hypothesis = H0 => Population Mean of Group 1 = Population Mean of Group 2 <br>\n",
    " > Alternate Hypothesis = H1 => Population Mean of Group 1 != Population Mean of Group 2 <br>\n",
    "\n",
    "Then I utilized the follwing two sample T-test formula:\n",
    "\n",
    "\n",
    "\n",
    "I got the value of t as:\n",
    "\n",
    "t = 2.37\n",
    "\n",
    "Then I utilized t-table to look for the value of t for the following parameters:\n",
    "\n",
    "Degrees of Freedom = 68\n",
    "Significance Value = 0.01\n",
    "\n",
    "I got the following value of t fromt the table:\n",
    "\n",
    "t = ± 2.638\n",
    "\n",
    "Since 2.37 lies in the region ±2.638 so, the final conclusion was:\n",
    "\n",
    "Failed to reject null hypothesis\n",
    "Population mean for two groups are equal\n",
    "\n"
   ]
  },
  {
   "cell_type": "markdown",
   "id": "171912f7-9e38-40ae-98c4-4938248cb5eb",
   "metadata": {},
   "source": [
    "#### Question No. 17:\n",
    "A marketing company wants to estimate the average number of ads watched by viewers during a TV program. They take a random sample of 50 viewers and find that the sample mean is 4 with a standard deviation of 1.5. Estimate the population mean with a 99% confidence interval."
   ]
  },
  {
   "cell_type": "markdown",
   "id": "e3f2c24c-1ccd-4f52-8440-c040bb081d41",
   "metadata": {},
   "source": [
    "##### Answer:\n",
    "To estimate the population mean with a 99% confidence interval, we can use the following formula:\n",
    "\n",
    " > CI = X̄ ± z*(σ/√n)<br>\n",
    "\n",
    "Where:\n",
    "\n",
    " > X̄ = sample mean (4)<br>\n",
    " > z = z-score corresponding to the confidence level (99%)<br>\n",
    " > σ = population standard deviation (1.5)<br>\n",
    " > n = sample size (50)<br>\n",
    "\n",
    "To find the z-score, we can use a standard normal distribution table. For a 99% confidence level, the z-score is\n",
    "\n",
    " > z-score = 2.576.<br>\n",
    "\n",
    "Plugging in the values, we get:\n",
    "\n",
    " > CI = 4 ± 2.576*(1.5/√50)<br>\n",
    " > CI = 4 ± 0.665<br>\n",
    "\n",
    "Therefore, the 99% confidence interval for the population mean of the number of ads watched by viewers during a TV program is (3.335, 4.665). We are 99% confident that the true population mean falls within this interval."
   ]
  },
  {
   "cell_type": "code",
   "execution_count": null,
   "id": "f3941892-721f-4ba0-8ddf-a64e6ca46670",
   "metadata": {},
   "outputs": [],
   "source": []
  }
 ],
 "metadata": {
  "kernelspec": {
   "display_name": "Python 3 (ipykernel)",
   "language": "python",
   "name": "python3"
  },
  "language_info": {
   "codemirror_mode": {
    "name": "ipython",
    "version": 3
   },
   "file_extension": ".py",
   "mimetype": "text/x-python",
   "name": "python",
   "nbconvert_exporter": "python",
   "pygments_lexer": "ipython3",
   "version": "3.10.8"
  }
 },
 "nbformat": 4,
 "nbformat_minor": 5
}
