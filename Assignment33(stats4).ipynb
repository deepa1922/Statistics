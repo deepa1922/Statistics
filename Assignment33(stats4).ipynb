{
 "cells": [
  {
   "cell_type": "markdown",
   "id": "94cce663-20dd-4052-bfce-391382ddef19",
   "metadata": {},
   "source": [
    "#### Question No. 1:\n",
    "What are the Probability Mass Function (PMF) and Probability Density Function (PDF)? Explain with an example."
   ]
  },
  {
   "cell_type": "markdown",
   "id": "99e3a984-bdc7-4cbb-9bcf-502ca959e5ee",
   "metadata": {},
   "source": [
    "#### Answer:\n",
    "Probability Mass Function (PMF) and Probability Density Function (PDF) are two fundamental concepts in probability theory and statistics used to describe the probability distribution of a random variable.\n",
    "\n",
    "<b>Probability Mass Function (PMF)<br>:\n",
    "The PMF is a function that maps each possible value of a discrete random variable to its probability of occurrence. It represents the probability that a random variable takes a certain value. The sum of probabilities of all possible values of the random variable is equal to 1. The PMF is defined as:\n",
    "\n",
    " > PMF(x) = P(X = x)<br>\n",
    "\n",
    "where X is a random variable, x is a possible value that X can take, and P(X = x) is the probability that X takes the value x.\n",
    "\n",
    "<b>Example:<br> Consider the roll of a fair six-sided die. The possible values that the die can take are 1, 2, 3, 4, 5, and 6, each with a probability of 1/6. The PMF of the random variable X, which represents the number on the top face of the die, is:\n",
    "\n",
    "PMF(1) = 1/6, PMF(2) = 1/6, PMF(3) = 1/6, PMF(4) = 1/6, PMF(5) = 1/6, PMF(6) = 1/6\n",
    "\n",
    "<b>Probability Density Function (PDF):<br>\n",
    "PDF is a function that describes the probability density of a continuous random variable. It represents the probability that a random variable falls within a certain range of values. The area under the curve of the PDF between any two points represents the probability that the random variable falls within that range. The integral of the PDF over the entire domain is equal to 1. The PDF is defined as:\n",
    "\n",
    " > PDF(x) = dF(x)/dx\n",
    "\n",
    "<b>Example:<br> Consider a normal distribution with a mean of 0 and a standard deviation of 1. The PDF of the random variable X, which represents the values that X can take, is:\n",
    "\n",
    "PDF(x) = 1/(sqrt(2pi)) exp(-(x^2)/2)"
   ]
  },
  {
   "cell_type": "markdown",
   "id": "a51a9d2e-2ed3-425e-8461-cfa389d1ea60",
   "metadata": {},
   "source": [
    "#### Question No. 2:\n",
    "What is Cumulative Density Function (CDF)? Explain with an example. Why CDF is used?"
   ]
  },
  {
   "cell_type": "markdown",
   "id": "626ca828-5db7-4a06-927a-89608dc2e955",
   "metadata": {},
   "source": [
    "Answer:\n",
    "<b>The Cumulative Distribution Function (CDF)<br> is a fundamental concept in probability theory and statistics that describes the probability that a random variable takes a value less than or equal to a given value. It is defined for both discrete and continuous random variables.\n",
    "\n",
    "For a discrete random variable X, the CDF is defined as:\n",
    "\n",
    " > F(x) = P(X ≤ x)\n",
    "\n",
    "where x is any real number, and P(X ≤ x) is the probability that X takes a value less than or equal to x.\n",
    "\n",
    "For a continuous random variable X, the CDF is defined as the integral of the PDF from negative infinity to x:\n",
    "\n",
    " > F(x) = ∫{-∞, x} PDF(t) dt\n",
    "\n",
    "where PDF(x) is the Probability Density Function of X.\n",
    "\n",
    "Example: Consider the roll of a fair six-sided die. The possible values that the die can take are 1, 2, 3, 4, 5, and 6, each with a probability of 1/6.\n",
    "The CDF of the random variable X, which represents the number on the top face of the die, is:\n",
    "    F(x) = P(X ≤ x)\n",
    "\n",
    " > = 0 for x < 1 <br>\n",
    " > = 1/6 for 1 ≤ x < 2 <br>\n",
    " > = 2/6 for 2 ≤ x < 3 <br>\n",
    " > = 3/6 for 3 ≤ x < 4 <br>\n",
    " > = 4/6 for 4 ≤ x < 5 <br>\n",
    " > = 5/6 for 5 ≤ x < 6 <br>\n",
    " > = 1 for x ≥ 6 <br>"
   ]
  },
  {
   "cell_type": "markdown",
   "id": "2dd09ada-df47-4721-b589-5686597e7590",
   "metadata": {},
   "source": [
    "#### Question No. 3:\n",
    "What are some examples of situations where the normal distribution might be used as a model? Explain how the parameters of the normal distribution relate to the shape of the distribution."
   ]
  },
  {
   "cell_type": "markdown",
   "id": "3391f3a0-6e6c-4256-8282-da876c6e94ae",
   "metadata": {},
   "source": [
    "#### Answer:\n",
    "Some examples of situations where the normal distribution might be used as a model include:\n",
    "\n",
    "<b>Heights or weights of a population:</b> The normal distribution can be used to model the distribution of heights or weights of a population.\n",
    "<b>Test scores:</b>The normal distribution can be used to model the distribution of test scores in a population.\n",
    "Measurement errors: The normal distribution can be used to model the distribution of errors in measurements, such as errors in laboratory measurements.\n",
    "<b>Financial returns:</b> The normal distribution can be used to model the distribution of financial returns, such as stock prices.\n",
    "<b>rTime taken to complete a task:</b> The normal distribution can be used to model the distribution of time taken to complete a task, such as the time taken to fill an order in a factory.\n",
    "    \n",
    "The normal distribution is a symmetric distribution, which means that the mean, median, and mode are all equal. The shape of the distribution is bell-shaped, and the total area under the curve is equal to 1. The standard normal distribution is a special case of the normal distribution with a mean of 0 and a standard deviation of 1.\n",
    "The normal distribution is often used as a model in statistical analysis because of its properties, such as the central limit theorem, which states that the sum of a large number of independent and identically distributed random variables will tend to a normal distribution."
   ]
  },
  {
   "cell_type": "markdown",
   "id": "d6398733-c37e-4caf-b09f-9bf5a5d36c11",
   "metadata": {},
   "source": [
    "#### Question No. 4:\n",
    "Explain the importance of Normal Distribution. Give a few real-life examples of Normal Distribution."
   ]
  },
  {
   "cell_type": "markdown",
   "id": "39bb42b0-d838-4c80-8a8d-a217085cb12d",
   "metadata": {},
   "source": [
    "#### Answer:\n",
    "The importance of the normal distribution can be explained as follows:\n",
    "\n",
    " 1. <b>Many natural phenomena follow a normal distribution:</b> The normal distribution is observed in many natural phenomena, such as the heights and weights of a population, the measurement errors in laboratory experiments, the test scores of students, the time taken to complete a task, and many more.\n",
    " 2. <b>Statistical inference:</b> The normal distribution is used extensively in statistical inference, which involves drawing conclusions about a population based on a sample of data. Many statistical tests, such as the t-test and ANOVA, assume that the data follow a normal distribution.\n",
    " 3. <b>Central limit theorem:</b> The central limit theorem states that the sum of a large number of independent and identically distributed random variables will tend to a normal distribution, regardless of the distribution of the individual variables. This property makes the normal distribution a fundamental concept in probability theory and statistics.\n",
    "Some real-life examples of the normal distribution are:\n",
    "\n",
    "1. <b>Heights of adults:</b> The heights of adults in a population follow a normal distribution, with a mean of around 5 feet 7 inches and a standard deviation of around 3 inches.\n",
    " 2. <b>Test scores:</b> The scores on a standardized test, such as the SAT or GRE, follow a normal distribution, with a mean of around 500-600 and a standard deviation of around 100-200.\n",
    " 3. <b>Body temperature:</b> The body temperature of a healthy human follows a normal distribution, with a mean of around 98.6 degrees Fahrenheit and a standard deviation of around 0.5 degrees.\n",
    " 4. <b>IQ scores:</b> The IQ scores of a population follow a normal distribution, with a mean of 100 and a standard deviation of 15.\n",
    " 5. <b>Stock market returns:</b> The daily returns on the stock market follow a normal distribution, with a mean of around 0 and a standard deviation of around 1-2%."
   ]
  },
  {
   "cell_type": "markdown",
   "id": "4a9c7639-04e5-436e-9051-77198798e077",
   "metadata": {},
   "source": [
    "#### Question No. 5:\n",
    "What is Bernaulli Distribution? Give an Example. What is the difference between Bernoulli Distribution and Binomial Distribution?"
   ]
  },
  {
   "cell_type": "markdown",
   "id": "bc78a11f-ce1d-4ca3-9c35-9f43427fef3a",
   "metadata": {},
   "source": [
    "#### Answer:\n",
    "The Bernoulli distribution is a discrete probability distribution that models the outcome of a single binary event. It takes a single parameter p, which represents the probability of success for the event, and outputs a probability distribution for the event's outcomes.\n",
    "\n",
    "<b>Example</b>: Consider flipping a fair coin. The Bernoulli distribution models this as a binary event where the outcome is either heads or tails. If we define \"success\" as getting heads, then the probability of success is 0.5, and the probability of failure (getting tails) is also 0.5. The Bernoulli distribution would output a probability distribution where the probability of success is 0.5 and the probability of failure is 0.5.\n",
    "\n",
    "<b>The key difference between the Bernoulli distribution and the binomial distribution is that</b> the Bernoulli distribution models the outcome of a single event, while the binomial distribution models the number of successes in a fixed number of independent and identical Bernoulli trials. In other words, the binomial distribution is the sum of multiple independent Bernoulli random variables."
   ]
  },
  {
   "cell_type": "markdown",
   "id": "c5f35481-f415-4cef-8561-3948debf1aa8",
   "metadata": {},
   "source": [
    "#### Answer:\n",
    "We can use the z-table to solve this question.\n",
    "\n",
    "The appropriate formula to use is:\n",
    " > z = (x - μ) / σ <br>\n",
    "\n",
    "where x is the value of the observation you are interested in (in this case, x = 60), μ is the mean of the dataset, and σ is the standard deviation of the dataset.\n",
    "\n",
    "Substituting the values given in the question, we get:\n",
    " > z = (60 - 50) / 10 = 1<br>\n",
    "\n",
    "Now, we need to use the z-table to find the probability that a z-score is greater than 1.\n",
    "\n",
    "Using the z-table, we look up the probability corresponding to a z-score of 1.00 in the positive z-score column. The table tells us that the probability is 0.8413.\n",
    "\n",
    "The probabilty that we got from z-table is the probability of randomly selected number less than 60, because z-table gives us the probability of the values on the left side of 60. But we need the values on the right side (greater than 60) of 60. So we can get that probability by subtracting 0.8413 from 1 as:\n",
    "\n",
    " > 1 - 0.8413 = 0.1587<br>"
   ]
  },
  {
   "cell_type": "markdown",
   "id": "a4a7d284-d0a1-419a-8c46-16ee63cb382f",
   "metadata": {},
   "source": [
    " #### Question No. 7:\n",
    "Explain uniform Distribution with an example."
   ]
  },
  {
   "cell_type": "markdown",
   "id": "1c588b3a-a5ff-44f5-944a-e17530ea16ea",
   "metadata": {},
   "source": [
    "#### Answer:\n",
    "Uniform distribution, also known as a rectangular distribution, is a probability distribution where all possible outcomes are equally likely to occur. It is often used in statistics to model situations where each outcome is equally likely to occur, such as rolling a fair die or picking a card from a well-shuffled deck.\n",
    "\n",
    "<b>Example:</b>\n",
    "<b>Rolling a fair six-sided die:</b> When rolling the die, each face has an equal probability of showing up, which is 1/6 or approximately 0.1667. This means that any number between 1 and 6 is equally likely to be rolled, and the probability of rolling any particular number is 1/6.\n",
    "\n",
    "In the above examples, the probability density function of the uniform distribution is constant over the entire range of possible outcomes. That is, the probability of any particular outcome is proportional to the size of the range of possible outcomes."
   ]
  },
  {
   "cell_type": "markdown",
   "id": "4b2c9fb6-c448-4f13-b8bb-18d22cc87e48",
   "metadata": {},
   "source": [
    "#### Question No. 8:\n",
    "What is the z score? State the importance of the z score."
   ]
  },
  {
   "cell_type": "markdown",
   "id": "6bfe984d-eba8-48e3-a1c7-5af7811033e1",
   "metadata": {},
   "source": [
    "#### Answer:\n",
    "The z-score is a statistical measure that expresses how far a data point is from the mean of a distribution in terms of standard deviations.\n",
    "\n",
    "The formula for calculating the z-score of a data point is:\n",
    " > z = (x - μ) / σ <br>\n",
    "where x is the data point, μ is the mean of the distribution, and σ is the standard deviation.\n",
    "\n",
    "<b>Importance:</b>\n",
    "\n",
    "1. The z-score is important because it allows us to standardize data from different distributions, which can then be compared and analyzed more easily. By converting data into z-scores, we can compare observations from different samples or populations and make meaningful statements about their relative positions.\n",
    "2. The z-score is also useful in hypothesis testing, where it is used to calculate the probability of observing a value as extreme as the one observed, assuming a certain null hypothesis."
   ]
  },
  {
   "cell_type": "markdown",
   "id": "59358f64-295a-4388-b342-4bd05b4bf0ca",
   "metadata": {},
   "source": [
    "#### Question No. 9:\n",
    "What is Central Limit Theorem? State the significance of the Central Limit Theorem."
   ]
  },
  {
   "cell_type": "markdown",
   "id": "3b1ea21d-db83-4b1d-a1b5-9841bfa2e8e4",
   "metadata": {},
   "source": [
    "#### Answer:\n",
    "The Central Limit Theorem (CLT) is a fundamental result in probability theory and statistics that describes the behavior of the sum or average of a large number of independent and identically distributed random variables. It states that, under certain conditions, the sum or average of such variables will converge to a normal distribution, regardless of the distribution of the individual variables.\n",
    "\n",
    "<b>The significance of the CLT</b> is that it provides a theoretical foundation for many statistical techniques that assume normally distributed data. For example, many hypothesis tests and confidence intervals rely on the assumption of normality, which is often justified by the CLT.\n",
    "Additionally, the CLT is important in practical applications such as quality control, where it is often necessary to estimate the mean and variance of a population based on a sample."
   ]
  },
  {
   "cell_type": "markdown",
   "id": "acb14516-22e1-4ec1-a33f-9b9c731c193e",
   "metadata": {},
   "source": [
    "#### Question No. 10:\n",
    "State the assumptions of the Central Limit Theorem."
   ]
  },
  {
   "cell_type": "markdown",
   "id": "dc75882a-a424-4bf7-958b-4db2a014c421",
   "metadata": {},
   "source": [
    "Answer:\n",
    "The assumptions of the Central Limit Theorem are:\n",
    "\n",
    "1. <b>Independence:</b> The observations in the sample are independent of each other, meaning that the outcome of one observation does not influence the outcome of another observation.\n",
    "2. <b>Sample size</b>: The sample size is sufficiently large. The larger the sample size, the better the approximation to the normal distribution.\n",
    "3. <b>Identically distributed:</b> The sample data comes from a population that has a well-defined mean and variance. The observations in the sample are identically distributed, meaning that they come from the same population.\n",
    "4. <b>Finite variance:</b> The population has a finite variance. This assumption ensures that the sample variance is also finite.\n",
    "5. <b>Non-skewed population distribution:</b> The population distribution is not strongly skewed. A strongly skewed population distribution can affect the validity of the Central Limit Theorem, and a larger sample size may be required to approximate a normal distribution."
   ]
  },
  {
   "cell_type": "code",
   "execution_count": null,
   "id": "659252fb-1fab-4ca0-b0e5-afd9c78ed0d5",
   "metadata": {},
   "outputs": [],
   "source": []
  }
 ],
 "metadata": {
  "kernelspec": {
   "display_name": "Python 3 (ipykernel)",
   "language": "python",
   "name": "python3"
  },
  "language_info": {
   "codemirror_mode": {
    "name": "ipython",
    "version": 3
   },
   "file_extension": ".py",
   "mimetype": "text/x-python",
   "name": "python",
   "nbconvert_exporter": "python",
   "pygments_lexer": "ipython3",
   "version": "3.10.8"
  }
 },
 "nbformat": 4,
 "nbformat_minor": 5
}
