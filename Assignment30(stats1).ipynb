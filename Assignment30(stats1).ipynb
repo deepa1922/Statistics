{
 "cells": [
  {
   "cell_type": "code",
   "execution_count": null,
   "id": "4a27a850-36f1-41f6-9424-1e0d598f42dc",
   "metadata": {},
   "outputs": [],
   "source": [
    "                ******STATISTICS CLASS 1******"
   ]
  },
  {
   "cell_type": "markdown",
   "id": "628b6a0a-81cf-4802-9e77-b126003104b0",
   "metadata": {},
   "source": [
    "What is Statistics?\n",
    "\n",
    "Answer:\n",
    "\n",
    "Statistics in data science is the study of how to collect, analyze, interpret, and present data. It is a branch of mathematics that deals with the analysis of data, which can be used to gain insights, make predictions, and inform decision-making.\n",
    "\n",
    "In data science, statistics is used to summarize and describe data through measures such as mean, median, mode, and standard deviation. It is also used to test hypotheses and make inferences about populations based on samples of data. Additionally, statistical models are used to make predictions and identify relationships between variables.\n",
    "\n",
    "For example : Imagine a company wants to know how many of their customers are satisfied with their product. They could collect data from a survey and use statistical methods to analyze the results, such as calculating the percentage of satisfied customers, identifying common themes in feedback, and comparing results across different demographics. This information can help the company make improvements to their product and increase customer satisfaction."
   ]
  },
  {
   "cell_type": "markdown",
   "id": "3195617d-9b38-4981-afbe-1904d578dc22",
   "metadata": {},
   "source": [
    "Q2. Define the different types of statistics and give an example of when each type might be used."
   ]
  },
  {
   "cell_type": "markdown",
   "id": "06a55bd4-611e-4164-879e-63f0057128cc",
   "metadata": {},
   "source": [
    "Answer:\n",
    "There are two major types of Statistics:\n",
    "\n",
    "Descriptive Statistics:\n",
    "\n",
    "Descriptive statistics involves the collection, analysis, and presentation of data to summarize and describe characteristics of a dataset. It is used to provide a concise and meaningful summary of data through measures such as central tendency, variability, and shape. Descriptive statistics is generally used when data is available for the entire population of interest, or when a sample is used to estimate population parameters.\n",
    "Example of descriptive statistics: \n",
    "\n",
    "A researcher collects data on the heights of 100 students in a school. The researcher uses descriptive statistics to summarize the data by calculating the mean height, standard deviation, and creating a histogram to visualize the distribution of heights.\n",
    "\n",
    "Inferential Statistics: \n",
    "\n",
    "Inferential statistics involves making predictions or generalizations about a population based on data from a sample. It is used to draw conclusions or test hypotheses about the population using the sample data. Inferential statistics is generally used when data is not available for the entire population, and a sample is used to make inferences about the population.\n",
    "\n",
    "\n",
    "Example of inferential statistics: A company wants to determine whether a new product will be successful among its target market. The company collects a sample of data from a group of customers who have purchased the product and uses inferential statistics to determine whether the data supports the conclusion that the product will be successful among the entire target market. The company may use techniques such as hypothesis testing, confidence intervals, or regression analysis to draw conclusions about the population."
   ]
  },
  {
   "cell_type": "markdown",
   "id": "903212fa-b688-453f-aafb-7279ecf135b0",
   "metadata": {},
   "source": [
    "Q3. What are the different types of data and how do they differ from each other? Provide an example of\n",
    "each type of data."
   ]
  },
  {
   "cell_type": "markdown",
   "id": "c73c9356-f052-4473-92ea-f4cf9fc9a186",
   "metadata": {},
   "source": [
    "Answer:\n",
    "The two major types of data are:\n",
    "\n",
    "Quantitative Data:\n",
    "When data is collected about a variable that can be measured with numerical values, it is called quantitative data.\n",
    "Examples of quantitative data include age, height, weight, and number of hours worked.\n",
    "\n",
    "\n",
    "Qulitative Data: \n",
    "When data is collected about a variable that represents categories or attributes, it is called qualitative data.\n",
    "Examples of qualitative data include gender, occupation, color, and type of car.\n",
    "\n",
    "Therefore, the type of data collected is determined by the nature of the variable being measured. If the variable is numeric, the resulting data will be quantitative. If the variable is categorical, the resulting data will be qualitative. Both types of data play an important role in statistical analysis and can provide valuable insights depending on the research question and context."
   ]
  },
  {
   "cell_type": "markdown",
   "id": "6479dd63-b1ef-4133-87a2-2245c805719b",
   "metadata": {},
   "source": [
    "Question No. 4:\n",
    "Categorise the following datasets with respect to quantitative and qualitative data types:\n",
    "\n",
    "Answer:\n",
    "Grading in exam: A+, A, B+, B, C+, C, D, E\n",
    "\n",
    "Qualitative Data\n",
    "\n",
    "Colour of mangoes: yellow, green, orange, red\n",
    "\n",
    "Qulitative Data\n",
    "\n",
    "Height data of a class: [178.9, 179, 179.5, 176, 177.2, 178.3, 175.8,...]\n",
    "\n",
    "Quantitative Data\n",
    "\n",
    "Number of mangoes exported by a farm: [500, 600, 478, 672, ...]\n",
    "\n",
    "Quantitative Data"
   ]
  },
  {
   "cell_type": "markdown",
   "id": "727ee551-f0d5-4e9b-88f7-1dc82f28ba01",
   "metadata": {},
   "source": [
    "Q5. Explain the concept of levels of measurement and give an example of a variable for each level."
   ]
  },
  {
   "cell_type": "markdown",
   "id": "0da5d887-e046-4158-ad0f-ed1b49ba456b",
   "metadata": {},
   "source": [
    "1)Nominal Level: You can categorize your data by labelling them in mutually exclusive groups, but there is no order between the categories.\n",
    "\n",
    "Examples: City of birth, Gender, Ethnicity, Car brands, Marital status\n",
    "\n",
    "2)Ordinal Level: You can categorize and rank your data in an order, but you cannot say anything about the intervals between the rankings.(order,ranking matter but difference cannot be measured)\n",
    "Although you can rank the top 5 Olympic medallists, this scale does not tell you how close or far apart they are in number of wins.\n",
    "\n",
    "Examples: Top 5 Olympic medallists, Language ability (e.g., beginner, intermediate, fluent)\n",
    "\n",
    "3)Interval Level:\n",
    "You can categorize, rank, and infer equal intervals between neighboring data points, but there is no true zero point.(order and difference can be measured but ratio cannot be measured ,no true point)\n",
    "\n",
    "For example, the difference between any two adjacent temperatures is the same: one degree. But zero degrees is defined differently depending on the scale – it doesn’t mean an absolute absence of temperature.\n",
    "Other Examples: Test scores (e.g., IQ or exams), Personality inventories, Temperature in Fahrenheit or Celsius\n",
    "\n",
    "4)Ratio Level: You can categorize, rank, and infer equal intervals between neighboring data points, and there is a true zero point.\n",
    "A true zero means there is an absence of the variable of interest. In ratio scales, zero does mean an absolute lack of the variable.\n",
    "(order matter, differerced and ratio measured,contain 0 starting point)\n",
    "\n",
    "For example, in the Kelvin temperature scale, there are no negative degrees of temperature – zero means an absolute lack of thermal energy.\n",
    "Other Exmaples: Height, Age, Weight"
   ]
  },
  {
   "cell_type": "markdown",
   "id": "0b3d5c7b-be6c-4e0c-a794-7c860f50966d",
   "metadata": {},
   "source": [
    "Q6. Why is it important to understand the level of measurement when analyzing data? Provide an\n",
    "example to illustrate your answer."
   ]
  },
  {
   "cell_type": "markdown",
   "id": "6f631eb3-6e27-4d76-8b82-2c8616ecb97b",
   "metadata": {},
   "source": [
    "Understanding the level of measurement is important when analyzing data because it determines the type of statistical analyses that can be performed on the data, as well as the appropriate way to interpret the results. Different types of statistical analysis are suited for different levels of measurement, and using an inappropriate analysis can result in inaccurate conclusions.\n",
    "\n",
    "If a variable is nominal, it is inappropriate to perform calculations such as mean or standard deviation, as these statistics are not meaningful for categorical data. Instead, appropriate measures for nominal data include frequency counts and percentages. If a variable is ordinal, it is appropriate to use measures such as median or mode, but not mean, as the ranking of the values does not necessarily correspond to equal intervals. If a variable is interval or ratio, all three measures (mean, median, and mode) can be used, as well as measures such as standard deviation and correlation.\n",
    "\n",
    "An example to illustrate the importance of understanding the level of measurement is the analysis of income data. If income is measured as a nominal variable with categories such as \"less than 20,000\", \"20,000 to 40,000\", and \"more than 40,000\", it would be inappropriate to calculate the mean income, as the categories do not represent equal intervals. Instead, appropriate measures would include the frequency counts and percentages of individuals in each income category. If income is measured as a ratio variable in dollars, the mean income can be calculated and compared across different groups or time periods, and statistical tests such as t-tests or ANOVA can be used to determine whether there are significant differences in income between groups."
   ]
  },
  {
   "cell_type": "markdown",
   "id": "adefd6f0-baee-41ec-8db3-d2bdb9840f7b",
   "metadata": {},
   "source": [
    "Question No. 7:\n",
    "How nominal data type is different from ordinal data type.\n",
    "\n",
    "Answer:\n",
    "Nominal datais a type of categorical data where the categories are unordered and do not have any inherent ranking or order. Nominal data simply represents different categories or groups, without any implied order or hierarchy. Examples of nominal data include gender (male/female), hair color (blonde, brown, black, etc.), or political affiliation (Republican, Democrat, Independent, etc.).\n",
    "\n",
    "Ordinal data, on the other hand, is also a type of categorical data, but the categories have a specific order or hierarchy. In other words, the categories can be ranked in a meaningful way. Examples of ordinal data include educational level (e.g. high school, some college, bachelor's degree, master's degree, etc.), socioeconomic status (e.g. low, middle, high), or level of agreement (e.g. strongly disagree, disagree, neutral, agree, strongly agree).\n",
    "\n",
    "The main difference between nominal and ordinal data is that ordinal data has a specific order or ranking of the categories, while nominal data does not."
   ]
  },
  {
   "cell_type": "markdown",
   "id": "addc2688-6ec2-4623-a65d-0cf5ce5cac6d",
   "metadata": {},
   "source": [
    "Question No. 8:\n",
    "Which type of plot can be used to display data in terms of range?\n",
    "\n",
    "Answer:\n",
    "A type of plot that can be used to display data in terms of range is a box plot (also known as a box-and-whisker plot). A box plot is a graphical representation of the distribution of a set of continuous data, using five summary statistics: the minimum value, the first quartile (Q1), the median, the third quartile (Q3), and the maximum value.\n",
    "\n",
    "For example, a box plot could be used to display the range of temperatures recorded in a city over a given period of time. The minimum and maximum values would be represented by the whiskers, and the box would represent the interquartile range (the middle 50% of the data). The median temperature would be represented by a line inside the box. This would allow for easy comparison of temperature ranges across different months or years, and also identify any unusually high or low temperatures as outliers."
   ]
  },
  {
   "cell_type": "markdown",
   "id": "677a5b1d-f4a8-41b0-819d-bebb8d6952cc",
   "metadata": {},
   "source": [
    "Question No. 9:\n",
    "Describe the difference between descriptive and inferential statistics. Give an example of each type of statistics and explain how they are used.\n",
    "\n",
    "Answer:\n",
    "Descriptive statistics involves summarizing and describing the main features of a data set, such as measures of central tendency (mean, median, mode) and measures of dispersion (range, standard deviation, variance). Descriptive statistics is used to provide a snapshot or summary of the data, in order to gain an understanding of the characteristics and patterns of the data set.\n",
    "\n",
    "Examples of descriptive statistics include calculating the mean height of a group of people or the standard deviation of their weights.\n",
    "\n",
    "Inferential statistics, on the other hand, involves using statistical methods to make inferences or draw conclusions about a population based on a sample of data. Inferential statistics is used to test hypotheses or answer research questions, by making predictions or generalizations about a larger group based on a smaller subset of data.\n",
    "\n",
    "Examples of inferential statistics include hypothesis testing, confidence intervals, and regression analysis."
   ]
  },
  {
   "cell_type": "markdown",
   "id": "86924081-6bed-4da1-90d8-429fcbefd198",
   "metadata": {},
   "source": [
    "Question No. 10:\n",
    "What are some common measures of central tendency and variability used in statistics? Explain how each measure can be used to describe a dataset.\n",
    "\n",
    "Answer:\n",
    "Some of the common Measures of Central Tendency used in Statistics are:\n",
    "\n",
    "1)Mean: The arithmetic mean, or average, is calculated by summing all the values in a dataset and dividing by the number of values. The mean is a useful measure of central tendency when the data is normally distributed and there are no extreme values or outliers.\n",
    "\n",
    "2)Median: The median is the middle value in a dataset when the values are arranged in order. The median is useful when there are extreme values or outliers in the dataset, since it is not affected by these values in the same way as the mean.\n",
    "\n",
    "3)Mode: The mode is the most common value in a dataset. The mode is useful when dealing with categorical data or discrete variables, where there may be several values that occur with the same frequency.\n",
    "\n",
    "Some of the common Measures of Variability used in Statistics are:\n",
    "\n",
    "1)Range: The range is the difference between the largest and smallest values in a dataset. The range provides a simple measure of variability, but it can be sensitive to extreme values or outliers.\n",
    "\n",
    "2_Variance: The variance measures the average squared deviation from the mean in a dataset. The variance is useful when you want to quantify the spread of a dataset, and it is used in many statistical tests and models.\n",
    "\n",
    "3 Standard deviation: The standard deviation is the square root of the variance. The standard deviation provides a more intuitive measure of variability, since it is in the same units as the original data."
   ]
  },
  {
   "cell_type": "code",
   "execution_count": null,
   "id": "972a25d7-1678-443d-890a-6af76422f15b",
   "metadata": {},
   "outputs": [],
   "source": []
  }
 ],
 "metadata": {
  "kernelspec": {
   "display_name": "Python 3 (ipykernel)",
   "language": "python",
   "name": "python3"
  },
  "language_info": {
   "codemirror_mode": {
    "name": "ipython",
    "version": 3
   },
   "file_extension": ".py",
   "mimetype": "text/x-python",
   "name": "python",
   "nbconvert_exporter": "python",
   "pygments_lexer": "ipython3",
   "version": "3.10.8"
  }
 },
 "nbformat": 4,
 "nbformat_minor": 5
}
